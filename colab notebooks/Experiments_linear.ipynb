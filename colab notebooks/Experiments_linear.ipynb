{
  "nbformat": 4,
  "nbformat_minor": 0,
  "metadata": {
    "colab": {
      "provenance": [],
      "gpuType": "T4"
    },
    "kernelspec": {
      "name": "python3",
      "display_name": "Python 3"
    },
    "language_info": {
      "name": "python"
    },
    "accelerator": "GPU"
  },
  "cells": [
    {
      "cell_type": "code",
      "source": [
        "!pip install -q -r requirements.txt"
      ],
      "metadata": {
        "id": "oISl_AJMCYUl"
      },
      "execution_count": null,
      "outputs": []
    },
    {
      "cell_type": "code",
      "source": [
        "!pip install -q \\\n",
        "    --extra-index-url=https://pypi.nvidia.com \\\n",
        "    cudf-cu12==23.12.* dask-cudf-cu12==23.12.* cuml-cu12==23.12.* \\\n",
        "    cugraph-cu12==23.12.* cuspatial-cu12==23.12.* cuproj-cu12==23.12.* \\\n",
        "    cuxfilter-cu12==23.12.* cucim-cu12==23.12.* pylibraft-cu12==23.12.* \\\n",
        "    raft-dask-cu12==23.12.*"
      ],
      "metadata": {
        "id": "7fSVCVnakyty"
      },
      "execution_count": null,
      "outputs": []
    },
    {
      "cell_type": "code",
      "source": [
        "from cuml import svm\n",
        "from cuml import LogisticRegression\n",
        "from cuml.common import logger\n",
        "import datasets\n",
        "import experiments\n",
        "import features\n",
        "import utilities\n",
        "import gcn\n",
        "import node2vec\n",
        "import ensemble\n",
        "import torch\n",
        "from model import model_training\n",
        "import pickle as pk\n",
        "from sklearn.metrics import accuracy_score\n",
        "from sklearn.preprocessing import StandardScaler,MinMaxScaler,FunctionTransformer, Normalizer\n",
        "import numpy\n",
        "import gc\n",
        "from sklearn.tree import DecisionTreeClassifier\n",
        "from sklearn.base import clone"
      ],
      "metadata": {
        "id": "xx3P0_wSie3S"
      },
      "execution_count": null,
      "outputs": []
    },
    {
      "cell_type": "code",
      "source": [
        "# pass 'ogbn-arxiv' to load ArXiv dataset\n",
        "G, data = datasets.load_data('cora')\n",
        "print(data)"
      ],
      "metadata": {
        "id": "0iRAueiViqeE"
      },
      "execution_count": null,
      "outputs": []
    },
    {
      "cell_type": "markdown",
      "source": [
        "# Experiment 1: Linear models + combinations of structural and positional features"
      ],
      "metadata": {
        "id": "oRskOYKY6g0E"
      }
    },
    {
      "cell_type": "code",
      "source": [
        "device = torch.device('cuda' if torch.cuda.is_available() else 'cpu')\n",
        "# global features\n",
        "original_features = data.x.to(device)\n",
        "structural_features = features.structural_features(G,['cc', 'bc', 'dc', 'ec', 'pr', 'cn', 'lc', 'nd', 'kc']).to(device)\n",
        "positional_features = features.positional_features(data,128,50)"
      ],
      "metadata": {
        "id": "N_fB_lms61zw"
      },
      "execution_count": null,
      "outputs": []
    },
    {
      "cell_type": "code",
      "source": [
        "#structural_features=utilities.load_results('structural_features')\n",
        "#positional_features=utilities.load_results('positional_features')"
      ],
      "metadata": {
        "id": "CWhH9lJiZxo8"
      },
      "execution_count": null,
      "outputs": []
    },
    {
      "cell_type": "code",
      "source": [
        "#%load_ext autoreload\n",
        "#%autoreload 2"
      ],
      "metadata": {
        "id": "ngCX4ugLcsQl"
      },
      "execution_count": null,
      "outputs": []
    },
    {
      "cell_type": "code",
      "source": [
        "def run_feature_combinations(file_name, classifier_original, normalization=lambda x: x):\n",
        "    features_combinations = [\n",
        "      original_features,\n",
        "      structural_features,\n",
        "      positional_features,\n",
        "      utilities.concatenate(original_features,structural_features),\n",
        "      utilities.concatenate(original_features,positional_features),\n",
        "      utilities.concatenate(structural_features,positional_features),\n",
        "      utilities.concatenate(original_features,structural_features,positional_features)]\n",
        "\n",
        "    file_names = [\n",
        "      'original',\n",
        "      'structural',\n",
        "      'positional',\n",
        "      'original-structural',\n",
        "      'original-positional',\n",
        "      'structural-positional',\n",
        "      'original-structural-positional']\n",
        "\n",
        "    basic_models = dict()\n",
        "    orig_num_feat = original_features.size()[1]\n",
        "    for curr_features, curr_file_name in zip(features_combinations, file_names):\n",
        "        classifier = clone(classifier_original)\n",
        "\n",
        "        data.x = curr_features\n",
        "        data.x = normalization(data.x)\n",
        "\n",
        "        if data.name=='Cora' and (curr_file_name=='original' or curr_file_name=='original-structural' or curr_file_name=='original-positional' or curr_file_name=='original-structural-positional'):\n",
        "          split = curr_features.split([orig_num_feat,curr_features.size()[1]-orig_num_feat],dim=-1)\n",
        "          orig_feats = split[0]\n",
        "          other_feats = split[1]\n",
        "          other_feats_norm = normalization(other_feats)\n",
        "          data.x = utilities.concatenate(orig_feats,other_feats_norm)\n",
        "\n",
        "        X_train = data.x[data.train_mask].cpu().numpy()\n",
        "        y_train = data.y[data.train_mask].cpu().numpy()\n",
        "        X_test = data.x[data.test_mask].cpu().numpy()\n",
        "        y_test = data.y[data.test_mask].cpu().numpy()\n",
        "\n",
        "        classifier.fit(X_train, y_train)\n",
        "\n",
        "        y_pred = classifier.predict(X_test)\n",
        "        accuracy = accuracy_score(y_test, y_pred)\n",
        "\n",
        "        basic_models[curr_file_name] = {'avg_acc': accuracy}\n",
        "\n",
        "        print(f'Training {curr_file_name} completed!')\n",
        "\n",
        "\n",
        "    utilities.save_results(basic_models, file_name)"
      ],
      "metadata": {
        "id": "jFKhMWRciBgz"
      },
      "execution_count": null,
      "outputs": []
    },
    {
      "cell_type": "markdown",
      "source": [
        "## Logistic Regression"
      ],
      "metadata": {
        "id": "yEz7QSMhxeR0"
      }
    },
    {
      "cell_type": "code",
      "source": [
        "classifier = LogisticRegression(max_iter=10000, multi_class=\"multinomial\",verbose=0)\n",
        "run_feature_combinations('lr_arxiv', classifier)\n",
        "lr_arxiv = utilities.load_results('lr_arxiv')\n",
        "print(lr_arxiv)"
      ],
      "metadata": {
        "id": "ydGwUPambpdP"
      },
      "execution_count": null,
      "outputs": []
    },
    {
      "cell_type": "markdown",
      "source": [
        "## Logistic Regression + Min-Max Normalization"
      ],
      "metadata": {
        "id": "3lbQ-_ktl7oH"
      }
    },
    {
      "cell_type": "code",
      "source": [
        "classifier = LogisticRegression(max_iter=10000, multi_class=\"multinomial\",verbose=0)\n",
        "normalization = lambda x : utilities.MinMaxNormalization(x)\n",
        "run_feature_combinations('lr_minmax_arxiv', classifier, normalization)\n",
        "lr_minmax_arxiv = utilities.load_results('lr_minmax_arxiv')\n",
        "print(lr_minmax_arxiv)"
      ],
      "metadata": {
        "id": "4C_C8xekmFVJ"
      },
      "execution_count": null,
      "outputs": []
    },
    {
      "cell_type": "markdown",
      "source": [
        "## Logistic Regression + Std Normalization"
      ],
      "metadata": {
        "id": "jnGXu_uR2JxD"
      }
    },
    {
      "cell_type": "code",
      "source": [
        "classifier = LogisticRegression(max_iter=10000, multi_class=\"multinomial\",verbose=0)\n",
        "normalization = lambda x : utilities.StandardNormalization(x)\n",
        "run_feature_combinations('lr_std_arxiv', classifier, normalization)\n",
        "lr_std_arxiv = utilities.load_results('lr_std_arxiv')\n",
        "print(lr_std_arxiv)"
      ],
      "metadata": {
        "id": "UOnN87yE2NfU"
      },
      "execution_count": null,
      "outputs": []
    },
    {
      "cell_type": "markdown",
      "source": [
        "## SVM"
      ],
      "metadata": {
        "id": "h2yAiEETxhWt"
      }
    },
    {
      "cell_type": "code",
      "source": [
        "classifier = svm.SVC(verbose=0)\n",
        "run_feature_combinations('svm_arxiv', classifier)\n",
        "svm_arxiv = utilities.load_results('svm_arxiv')\n",
        "print(svm_arxiv)"
      ],
      "metadata": {
        "id": "88Xo6YioxQDK"
      },
      "execution_count": null,
      "outputs": []
    },
    {
      "cell_type": "markdown",
      "source": [
        "## SVM + Min-Max Normalization"
      ],
      "metadata": {
        "id": "1coVPYee2hGz"
      }
    },
    {
      "cell_type": "code",
      "source": [
        "classifier = svm.SVC(verbose=0)\n",
        "normalization = lambda x : utilities.MinMaxNormalization(x)\n",
        "run_feature_combinations('svm_minmax_arxiv', classifier, normalization)\n",
        "svm_minmax_arxiv = utilities.load_results('svm_minmax_arxiv')\n",
        "print(svm_minmax_arxiv)"
      ],
      "metadata": {
        "id": "xtH70wvD2pj7"
      },
      "execution_count": null,
      "outputs": []
    },
    {
      "cell_type": "markdown",
      "source": [
        "## SVM + Std Normalization"
      ],
      "metadata": {
        "id": "SEhtdeIm2ze1"
      }
    },
    {
      "cell_type": "code",
      "source": [
        "classifier = svm.SVC(verbose=0)\n",
        "normalization = lambda x : utilities.StandardNormalization(x)\n",
        "run_feature_combinations('svm_std_arxiv', classifier, normalization)\n",
        "svm_std_arxiv = utilities.load_results('svm_std_arxiv')\n",
        "print(svm_std_arxiv)"
      ],
      "metadata": {
        "id": "heImQTsP24NZ"
      },
      "execution_count": null,
      "outputs": []
    },
    {
      "cell_type": "markdown",
      "source": [
        "## Decision Tree"
      ],
      "metadata": {
        "id": "IRqk5jlQxsS7"
      }
    },
    {
      "cell_type": "code",
      "source": [
        "classifier = DecisionTreeClassifier(random_state=404)\n",
        "run_feature_combinations('dt_arxiv', classifier)\n",
        "dt_arxiv = utilities.load_results('dt_arxiv')\n",
        "print(dt_arxiv)"
      ],
      "metadata": {
        "id": "tMgWQ1P4xyZ0"
      },
      "execution_count": null,
      "outputs": []
    },
    {
      "cell_type": "markdown",
      "source": [
        "## Decision Tree + Min-Max Normalization"
      ],
      "metadata": {
        "id": "DsflO7Kb3bfw"
      }
    },
    {
      "cell_type": "code",
      "source": [
        "classifier = DecisionTreeClassifier(random_state=404)\n",
        "normalization = lambda x : utilities.MinMaxNormalization(x)\n",
        "run_feature_combinations('dt_minmax_arxiv', classifier, normalization)\n",
        "dt_minmax_arxiv = utilities.load_results('dt_minmax_arxiv')\n",
        "print(dt_minmax_arxiv)"
      ],
      "metadata": {
        "id": "Zi00XWOt3g4i"
      },
      "execution_count": null,
      "outputs": []
    },
    {
      "cell_type": "markdown",
      "source": [
        "## Decision Tree + Std Normalization"
      ],
      "metadata": {
        "id": "gj47vtDh3soH"
      }
    },
    {
      "cell_type": "code",
      "source": [
        "classifier = DecisionTreeClassifier(random_state=404)\n",
        "normalization = lambda x : utilities.StandardNormalization(x)\n",
        "run_feature_combinations('dt_std_arxiv', classifier, normalization)\n",
        "dt_std_arxiv = utilities.load_results('dt_std_arxiv')\n",
        "print(dt_std_arxiv)"
      ],
      "metadata": {
        "id": "a3Guw8da3wyb"
      },
      "execution_count": null,
      "outputs": []
    },
    {
      "cell_type": "markdown",
      "source": [
        "## Experiment 2: linear models + combinations of structural and positional feature + Ensemble"
      ],
      "metadata": {
        "id": "-yWiPkNElv1c"
      }
    },
    {
      "cell_type": "code",
      "source": [
        "def run_ensemble(data_orig, classifier_meta, scaler_meta, classifier_base, file_name):\n",
        "\n",
        "  data = data_orig.clone()\n",
        "  #data.val_mask, data.ensemble_val_mask = ensemble.get_val_set_split(data)\n",
        "\n",
        "  features = [original_features, positional_features]\n",
        "  models = []\n",
        "  for feat in features:\n",
        "    cl = clone(classifier_base)\n",
        "    data.x = feat\n",
        "\n",
        "    X_train = data.x[data.train_mask].cpu().numpy()\n",
        "    y_train = data.y[data.train_mask].cpu().numpy()\n",
        "    X_test = data.x[data.test_mask].cpu().numpy()\n",
        "    y_test = data.y[data.test_mask].cpu().numpy()\n",
        "\n",
        "    cl.fit(X_train, y_train)\n",
        "\n",
        "    models.append(cl)\n",
        "\n",
        "    del cl\n",
        "    gc.collect()\n",
        "\n",
        "  meta_model_train = ensemble.get_meta_model_features(models, features, data.val_mask, data.edge_index,linear=True)\n",
        "  meta_model_test = ensemble.get_meta_model_features(models, features, data.test_mask, data.edge_index,linear=True)\n",
        "\n",
        "  del models\n",
        "  gc.collect()\n",
        "\n",
        "  X_train = meta_model_train.cpu().numpy()\n",
        "  y_train = data.y[data.val_mask].cpu().numpy()\n",
        "  X_test = meta_model_test.cpu().numpy()\n",
        "  y_test = data.y[data.test_mask].cpu().numpy()\n",
        "\n",
        "  X_train_scaled = scaler_meta.fit_transform(X_train)\n",
        "  X_test_scaled = scaler_meta.transform(X_test)\n",
        "\n",
        "  classifier_meta.fit(X_train_scaled, y_train)\n",
        "\n",
        "  y_pred = classifier_meta.predict(X_test_scaled)\n",
        "  accuracy = accuracy_score(y_test, y_pred)\n",
        "\n",
        "  print(f\"Ensemble training completed\")\n",
        "  print(f\"Ensemble accuracy: {accuracy}\")\n",
        "\n",
        "  results = dict()\n",
        "  results['avg_acc'] = accuracy\n",
        "\n",
        "  utilities.save_results(results, file_name)\n",
        "\n",
        "  del classifier_meta\n",
        "  gc.collect()"
      ],
      "metadata": {
        "id": "aIlGDiG5H5yo"
      },
      "execution_count": null,
      "outputs": []
    },
    {
      "cell_type": "markdown",
      "source": [
        "## SVM as meta and DT as base"
      ],
      "metadata": {
        "id": "pr_B5DHl6fKx"
      }
    },
    {
      "cell_type": "code",
      "source": [
        "classifier_meta = svm.SVC(verbose=0)\n",
        "classifier_base = DecisionTreeClassifier(random_state=404)\n",
        "scaler_meta = FunctionTransformer(lambda x: x)\n",
        "\n",
        "run_ensemble(data, classifier_meta, scaler_meta, classifier_base, 'ensemble_svm_dt_arxiv')\n",
        "ensemble_svm_dt_arxiv = utilities.load_results('ensemble_svm_dt_arxiv')\n",
        "print(ensemble_svm_dt_arxiv)"
      ],
      "metadata": {
        "id": "dLk2HlbG6eTk"
      },
      "execution_count": null,
      "outputs": []
    },
    {
      "cell_type": "markdown",
      "source": [
        "## SVM as meta and LR as base"
      ],
      "metadata": {
        "id": "rLR8wLuqOLr2"
      }
    },
    {
      "cell_type": "code",
      "source": [
        "classifier_meta = svm.SVC(verbose=0)\n",
        "classifier_base = LogisticRegression(max_iter=10000, multi_class=\"multinomial\",verbose=0)\n",
        "scaler_meta = FunctionTransformer(lambda x: x)\n",
        "\n",
        "run_ensemble(data, classifier_meta, scaler_meta, classifier_base, 'ensemble_svm_lr_arxiv')\n",
        "ensemble_svm_lr_arxiv = utilities.load_results('ensemble_svm_lr_arxiv')\n",
        "print(ensemble_svm_lr_arxiv)"
      ],
      "metadata": {
        "id": "5rhCDS0EOOm9"
      },
      "execution_count": null,
      "outputs": []
    },
    {
      "cell_type": "markdown",
      "source": [
        "## LR as meta and DT as base"
      ],
      "metadata": {
        "id": "TlpYPXFZ_9Sj"
      }
    },
    {
      "cell_type": "code",
      "source": [
        "classifier_meta = LogisticRegression(max_iter=10000, multi_class=\"multinomial\",verbose=0)\n",
        "classifier_base = DecisionTreeClassifier(random_state=404)\n",
        "scaler_meta = FunctionTransformer(lambda x: x)\n",
        "\n",
        "run_ensemble(data, classifier_meta, scaler_meta, classifier_base, 'ensemble_lr_dt_arxiv')\n",
        "ensemble_lr_dt_arxiv = utilities.load_results('ensemble_lr_dt_arxiv')\n",
        "print(ensemble_lr_dt_arxiv)"
      ],
      "metadata": {
        "id": "p5x5sAmWAA-1"
      },
      "execution_count": null,
      "outputs": []
    },
    {
      "cell_type": "markdown",
      "source": [
        "## LR as meta and SVM as base"
      ],
      "metadata": {
        "id": "poy4I5p1ApoQ"
      }
    },
    {
      "cell_type": "code",
      "source": [
        "classifier_meta = LogisticRegression(max_iter=10000, multi_class=\"multinomial\",verbose=0)\n",
        "classifier_base = svm.SVC(verbose=0)\n",
        "scaler_meta = FunctionTransformer(lambda x: x)\n",
        "\n",
        "run_ensemble(data, classifier_meta, scaler_meta, classifier_base, 'ensemble_lr_svm_arxiv')\n",
        "ensemble_lr_svm_arxiv = utilities.load_results('ensemble_lr_svm_arxiv')\n",
        "print(ensemble_lr_svm_arxiv)"
      ],
      "metadata": {
        "id": "n8T1TuCIArlv"
      },
      "execution_count": null,
      "outputs": []
    },
    {
      "cell_type": "markdown",
      "source": [
        "## LR + min-max as meta and SVM as base"
      ],
      "metadata": {
        "id": "OLzm-jxjyC9u"
      }
    },
    {
      "cell_type": "code",
      "source": [
        "classifier_meta = LogisticRegression(max_iter=10000, multi_class=\"multinomial\",verbose=0)\n",
        "classifier_base = svm.SVC(verbose=0)\n",
        "scaler_meta = MinMaxScaler()\n",
        "\n",
        "run_ensemble(data, classifier_meta, scaler_meta, classifier_base, 'ensemble_lr_minmax_svm_arxiv')\n",
        "ensemble_lr_minmax_svm_arxiv = utilities.load_results('ensemble_lr_minmax_svm_arxiv')\n",
        "print(ensemble_lr_minmax_svm_arxiv)"
      ],
      "metadata": {
        "id": "p-3Yve9HyB3b"
      },
      "execution_count": null,
      "outputs": []
    },
    {
      "cell_type": "markdown",
      "source": [
        "## DT as meta and LR as base"
      ],
      "metadata": {
        "id": "66QoiKnAA5ox"
      }
    },
    {
      "cell_type": "code",
      "source": [
        "classifier_meta = DecisionTreeClassifier(random_state=404)\n",
        "classifier_base = LogisticRegression(max_iter=10000, multi_class=\"multinomial\",verbose=0)\n",
        "scaler_meta = FunctionTransformer(lambda x: x)\n",
        "\n",
        "run_ensemble(data, classifier_meta, scaler_meta, classifier_base, 'ensemble_dt_lr_arxiv')\n",
        "ensemble_dt_lr_arxiv = utilities.load_results('ensemble_dt_lr_arxiv')\n",
        "print(ensemble_dt_lr_arxiv)"
      ],
      "metadata": {
        "id": "moMq36NMA-KW"
      },
      "execution_count": null,
      "outputs": []
    },
    {
      "cell_type": "markdown",
      "source": [
        "## DT as meta and SVM as base"
      ],
      "metadata": {
        "id": "MEJc0CvzBRc8"
      }
    },
    {
      "cell_type": "code",
      "source": [
        "classifier_meta = DecisionTreeClassifier(random_state=404)\n",
        "classifier_base = svm.SVC(verbose=0)\n",
        "scaler_meta = FunctionTransformer(lambda x: x)\n",
        "\n",
        "run_ensemble(data, classifier_meta, scaler_meta, classifier_base, 'ensemble_dt_svm_arxiv')\n",
        "ensemble_dt_svm_arxiv = utilities.load_results('ensemble_dt_svm_arxiv')\n",
        "print(ensemble_dt_svm_arxiv)"
      ],
      "metadata": {
        "id": "CkCdE8R2BTop"
      },
      "execution_count": null,
      "outputs": []
    }
  ]
}