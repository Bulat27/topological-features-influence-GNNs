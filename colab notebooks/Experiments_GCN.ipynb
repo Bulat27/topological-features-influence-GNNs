{
  "cells": [
    {
      "cell_type": "code",
      "execution_count": null,
      "metadata": {
        "id": "oISl_AJMCYUl"
      },
      "outputs": [],
      "source": [
        "!pip install -q -r requirements.txt"
      ]
    },
    {
      "cell_type": "code",
      "execution_count": null,
      "metadata": {
        "id": "7fSVCVnakyty"
      },
      "outputs": [],
      "source": [
        "!pip install -q \\\n",
        "    --extra-index-url=https://pypi.nvidia.com \\\n",
        "    cudf-cu12==23.12.* dask-cudf-cu12==23.12.* cuml-cu12==23.12.* \\\n",
        "    cugraph-cu12==23.12.* cuspatial-cu12==23.12.* cuproj-cu12==23.12.* \\\n",
        "    cuxfilter-cu12==23.12.* cucim-cu12==23.12.* pylibraft-cu12==23.12.* \\\n",
        "    raft-dask-cu12==23.12.*"
      ]
    },
    {
      "cell_type": "code",
      "execution_count": null,
      "metadata": {
        "id": "xx3P0_wSie3S"
      },
      "outputs": [],
      "source": [
        "from cuml import svm\n",
        "from cuml import LogisticRegression\n",
        "from cuml.common import logger\n",
        "from additional import *\n",
        "from features import *\n",
        "from models import *\n",
        "from models.model import model_training\n",
        "import torch\n",
        "import pickle as pk\n",
        "from sklearn.metrics import accuracy_score\n",
        "from sklearn.preprocessing import StandardScaler,MinMaxScaler,FunctionTransformer, Normalizer\n",
        "import numpy\n",
        "import gc\n",
        "from sklearn.tree import DecisionTreeClassifier"
      ]
    },
    {
      "cell_type": "code",
      "execution_count": null,
      "metadata": {
        "id": "0iRAueiViqeE"
      },
      "outputs": [],
      "source": [
        "# pass 'ogbn-arxiv' to load ArXiv dataset\n",
        "G, data = datasets.load_data('cora')\n",
        "print(data)"
      ]
    },
    {
      "cell_type": "markdown",
      "metadata": {
        "id": "oRskOYKY6g0E"
      },
      "source": [
        "# Experiment 1: basic GNN + combinations of structural and positional features"
      ]
    },
    {
      "cell_type": "code",
      "execution_count": null,
      "metadata": {
        "id": "1pXmf7nCFzVX"
      },
      "outputs": [],
      "source": [
        "# GCN setup\n",
        "device = torch.device('cuda' if torch.cuda.is_available() else 'cpu')\n",
        "model = gcn.GCNBase(data,hidden_channels=64)\n",
        "optimizer = torch.optim.Adam(model.parameters(), lr=0.01, weight_decay=5e-4)\n",
        "criterion = torch.nn.CrossEntropyLoss()\n",
        "n_epochs = 200\n",
        "n_runs = 10"
      ]
    },
    {
      "cell_type": "code",
      "execution_count": null,
      "metadata": {
        "id": "N_fB_lms61zw"
      },
      "outputs": [],
      "source": [
        "# global features\n",
        "original_features = data.x.to(device)\n",
        "structural_features = features.structural_features(G,['cc', 'bc', 'dc', 'ec', 'pr', 'cn', 'lc', 'nd', 'kc']).to(device)\n",
        "positional_features = features.positional_features(data,128,50)"
      ]
    },
    {
      "cell_type": "code",
      "execution_count": null,
      "metadata": {
        "id": "CWhH9lJiZxo8"
      },
      "outputs": [],
      "source": [
        "#structural_features=utilities.load_results('structural_features')\n",
        "#positional_features=utilities.load_results('positional_features')"
      ]
    },
    {
      "cell_type": "code",
      "execution_count": null,
      "metadata": {
        "id": "ngCX4ugLcsQl"
      },
      "outputs": [],
      "source": [
        "#%load_ext autoreload\n",
        "#%autoreload 2"
      ]
    },
    {
      "cell_type": "code",
      "execution_count": null,
      "metadata": {
        "id": "BJ8tXy0QYkQt"
      },
      "outputs": [],
      "source": [
        "def gcn_base_factory(data, hidden_channels):\n",
        "  return gcn.GCNBase(data, hidden_channels)\n",
        "\n",
        "def gcn_pre_factory(data, hidden_channels, mlp_hidden_channels):\n",
        "  return gcn.GCNPre(data, hidden_channels, mlp_hidden_channels)"
      ]
    },
    {
      "cell_type": "code",
      "execution_count": null,
      "metadata": {
        "id": "jFKhMWRciBgz"
      },
      "outputs": [],
      "source": [
        "# compute models with all feature combinations, both for base and mlp GCN\n",
        "def run_feature_combinations(file_name, model_factory, model_factory_params, normalization=lambda x: x):\n",
        "    features_combinations = [\n",
        "      original_features,\n",
        "      structural_features,\n",
        "      positional_features,\n",
        "      utilities.concatenate(original_features,structural_features),\n",
        "      utilities.concatenate(original_features,positional_features),\n",
        "      utilities.concatenate(structural_features,positional_features),\n",
        "      utilities.concatenate(original_features,structural_features,positional_features)]\n",
        "\n",
        "    file_names = [\n",
        "      'original',\n",
        "      'structural',\n",
        "      'positional',\n",
        "      'original-structural',\n",
        "      'original-positional',\n",
        "      'structural-positional',\n",
        "      'original-structural-positional']\n",
        "\n",
        "    basic_models = dict()\n",
        "    orig_num_feat = original_features.size()[1]\n",
        "    for curr_features, curr_file_name in zip(features_combinations, file_names):\n",
        "        data.x = curr_features\n",
        "        data.x = normalization(data.x)\n",
        "\n",
        "        if data.name=='Cora' and (curr_file_name=='original' or curr_file_name=='original-structural' or curr_file_name=='original-positional' or curr_file_name=='original-structural-positional'):\n",
        "          split = curr_features.split([orig_num_feat,curr_features.size()[1]-orig_num_feat],dim=-1)\n",
        "          orig_feats = split[0]\n",
        "          other_feats = split[1]\n",
        "          other_feats_norm = normalization(other_feats)\n",
        "          data.x = utilities.concatenate(orig_feats,other_feats_norm)\n",
        "\n",
        "        model = model_factory(data, *model_factory_params)\n",
        "        optimizer = torch.optim.Adam(model.parameters(), lr=0.01, weight_decay=5e-4)\n",
        "        results = dict()\n",
        "        results['avg_acc'], results['test_accs'], results['train_losses'], results['train_accs'], results['val_losses'], results['val_accs'], results['run_times'],results['best_epoch'] = experiments.run_experiments(model, data, n_runs, n_epochs, optimizer, criterion, device) # These should be \"global variables\"\n",
        "\n",
        "        basic_models[curr_file_name] = results\n",
        "\n",
        "    utilities.save_results(basic_models, file_name)"
      ]
    },
    {
      "cell_type": "code",
      "execution_count": null,
      "metadata": {
        "id": "ydGwUPambpdP"
      },
      "outputs": [],
      "source": [
        "run_feature_combinations('gcn-base-concatenation-without-norm-cora', gcn_base_factory,[64])\n",
        "gcn_base_concatenation_without_norm_cora = utilities.load_results('gcn-base-concatenation-without-norm-cora')\n",
        "print(gcn_base_concatenation_without_norm_cora)"
      ]
    },
    {
      "cell_type": "markdown",
      "metadata": {
        "id": "3lbQ-_ktl7oH"
      },
      "source": [
        "### Adding Min-Max Normalization"
      ]
    },
    {
      "cell_type": "code",
      "execution_count": null,
      "metadata": {
        "id": "lGXzj6VYlcKW"
      },
      "outputs": [],
      "source": [
        "min_max_normalization = lambda x : utilities.MinMaxNormalization(x)\n",
        "run_feature_combinations('gcn-base-concatenation-minmax-norm-cora', gcn_base_factory,[64],normalization = min_max_normalization)\n",
        "gcn_base_concatenation_minmax_norm_cora = utilities.load_results('gcn-base-concatenation-minmax-norm-cora')\n",
        "print(gcn_base_concatenation_minmax_norm_cora)"
      ]
    },
    {
      "cell_type": "markdown",
      "metadata": {
        "id": "RIVhsMffmBKr"
      },
      "source": [
        "### Adding Standard Normalization"
      ]
    },
    {
      "cell_type": "code",
      "execution_count": null,
      "metadata": {
        "id": "d6fBnFy_l5b2"
      },
      "outputs": [],
      "source": [
        "standard_normalization = lambda x : utilities.StandardNormalization(x)\n",
        "run_feature_combinations('gcn-base-concatenation-standard-norm-cora', gcn_base_factory,[64],normalization = standard_normalization)\n",
        "gcn_base_concatenation_standard_norm_cora = utilities.load_results('gcn-base-concatenation-standard-norm-cora')\n",
        "print(gcn_base_concatenation_standard_norm_cora)"
      ]
    },
    {
      "cell_type": "markdown",
      "metadata": {
        "id": "s3RtOYGflTCZ"
      },
      "source": [
        "## Experiment 2: basic GCN + combinations of structural and positional feature + MLP pre-processing layer"
      ]
    },
    {
      "cell_type": "markdown",
      "metadata": {
        "id": "01zN-9-R67x_"
      },
      "source": [
        "### Basic models + 128 neurons"
      ]
    },
    {
      "cell_type": "code",
      "execution_count": null,
      "metadata": {
        "id": "uBqQE9FgX0ZQ"
      },
      "outputs": [],
      "source": [
        "run_feature_combinations('gcn-pre-concatenation-without-norm-cora', gcn_pre_factory,[64,128])\n",
        "gcn_pre_concatenation_without_norm_cora = utilities.load_results('gcn-pre-concatenation-without-norm-cora')\n",
        "print(gcn_pre_concatenation_without_norm_cora)"
      ]
    },
    {
      "cell_type": "markdown",
      "metadata": {
        "id": "dTarnT1a7f2Q"
      },
      "source": [
        "### Basic models + 160 neurons"
      ]
    },
    {
      "cell_type": "code",
      "execution_count": null,
      "metadata": {
        "id": "CTwvgfp47qBi"
      },
      "outputs": [],
      "source": [
        "run_feature_combinations('gcn-pre-concatenation-without-norm-160-cora', gcn_pre_factory,[64,160])\n",
        "gcn_pre_concatenation_without_norm_160_cora = utilities.load_results('gcn-pre-concatenation-without-norm-160-cora')\n",
        "print(gcn_pre_concatenation_without_norm_160_cora)"
      ]
    },
    {
      "cell_type": "markdown",
      "metadata": {
        "id": "2Dk6XoFg7_mk"
      },
      "source": [
        "### Std normalized models + 128 neurons"
      ]
    },
    {
      "cell_type": "code",
      "execution_count": null,
      "metadata": {
        "id": "qCTogftn8Hh0"
      },
      "outputs": [],
      "source": [
        "run_feature_combinations('gcn-pre-concatenation-standard-norm-cora', gcn_pre_factory,[64,128], normalization = standard_normalization)\n",
        "gcn_pre_concatenation_standard_norm_cora = utilities.load_results('gcn-pre-concatenation-standard-norm-cora')\n",
        "print(gcn_pre_concatenation_standard_norm_cora)"
      ]
    },
    {
      "cell_type": "markdown",
      "metadata": {
        "id": "DsQkrNYs8spR"
      },
      "source": [
        "### Std normalized models + 160 neurons"
      ]
    },
    {
      "cell_type": "code",
      "execution_count": null,
      "metadata": {
        "id": "e9Inqfh-8rkC"
      },
      "outputs": [],
      "source": [
        "run_feature_combinations('gcn-pre-concatenation-standard-norm-160-cora', gcn_pre_factory,[64,160], normalization = standard_normalization)\n",
        "gcn_pre_concatenation_standard_norm_160_cora = utilities.load_results('gcn-pre-concatenation-standard-norm-160-cora')\n",
        "print(gcn_pre_concatenation_standard_norm_160_cora)"
      ]
    },
    {
      "cell_type": "markdown",
      "metadata": {
        "id": "-yWiPkNElv1c"
      },
      "source": [
        "## Experiment 3: basic GCN + combinations of structural and positional feature + Ensemble"
      ]
    },
    {
      "cell_type": "code",
      "execution_count": null,
      "metadata": {
        "id": "ctXRjJ6GUGBL"
      },
      "outputs": [],
      "source": [
        "data_clone = data.clone()\n",
        "data = data.to(device)"
      ]
    },
    {
      "cell_type": "code",
      "execution_count": null,
      "metadata": {
        "id": "aIlGDiG5H5yo"
      },
      "outputs": [],
      "source": [
        "def run_ensemble(data_orig, classifier, scaler, n_runs, file_name, normalization = lambda x: x):\n",
        "\n",
        "  test_accs = []\n",
        "  for i in range(1,n_runs+1):\n",
        "    print(f\"\\n RUN: {i}\\n\")\n",
        "\n",
        "    data = data_orig.clone()\n",
        "\n",
        "    data.val_mask, data.ensemble_val_mask = ensemble.get_val_set_split(data)\n",
        "\n",
        "    data.x = original_features\n",
        "    if data.name!='Cora':\n",
        "      data.x = normalization(data.x)\n",
        "    model_original = gcn.GCNBase(data,hidden_channels=64)\n",
        "    model_original = model_original.to(device)\n",
        "    optimizer = torch.optim.Adam(model_original.parameters(), lr=0.01, weight_decay=5e-4)\n",
        "    train_losses, train_accs, val_losses, val_accs, best_epoch = model_training(n_epochs, model_original, data, optimizer, criterion)\n",
        "\n",
        "    print(f\"\\n Model with original features: training completed\\n\")\n",
        "\n",
        "    data.x = positional_features\n",
        "    data.x = normalization(data.x)\n",
        "    model_positional = gcn.GCNBase(data,hidden_channels=64)\n",
        "    model_positional = model_positional.to(device)\n",
        "    optimizer = torch.optim.Adam(model_positional.parameters(), lr=0.01, weight_decay=5e-4)\n",
        "    train_losses, train_accs, val_losses, val_accs, best_epoch = model_training(n_epochs, model_positional, data, optimizer, criterion)\n",
        "\n",
        "    print(f\"\\n Model with positional features: training completed\\n\")\n",
        "\n",
        "    models = [model_original, model_positional]\n",
        "    features = [original_features, positional_features]\n",
        "\n",
        "    meta_model_train = ensemble.get_meta_model_features(models, features, data.ensemble_val_mask, data.edge_index)\n",
        "    meta_model_test = ensemble.get_meta_model_features(models, features, data.test_mask, data.edge_index)\n",
        "\n",
        "    X_train = meta_model_train.cpu().numpy()\n",
        "    y_train = data.y[data.ensemble_val_mask].cpu().numpy()\n",
        "    X_test = meta_model_test.cpu().numpy()\n",
        "    y_test = data.y[data.test_mask].cpu().numpy()\n",
        "\n",
        "    X_train_scaled = scaler.fit_transform(X_train)\n",
        "    X_test_scaled = scaler.transform(X_test)\n",
        "\n",
        "    classifier.fit(X_train_scaled, y_train)\n",
        "\n",
        "    y_pred = classifier.predict(X_test_scaled)\n",
        "    accuracy = accuracy_score(y_test, y_pred)\n",
        "\n",
        "    test_accs.append(accuracy)\n",
        "\n",
        "    print(f\"\\n Ensemble: training completed\")\n",
        "    print(f\"Ensemble accuracy: {accuracy}\")\n",
        "\n",
        "    gc.collect()\n",
        "\n",
        "  results = dict()\n",
        "  results['test_accs'] = test_accs\n",
        "  results['avg_acc'] = sum(test_accs) / len(test_accs)\n",
        "\n",
        "  utilities.save_results(results, file_name)"
      ]
    },
    {
      "cell_type": "markdown",
      "metadata": {
        "id": "Zphn2ftqE-Cg"
      },
      "source": [
        "## Basic models as base models"
      ]
    },
    {
      "cell_type": "markdown",
      "metadata": {
        "id": "-j2vKv6hC7BB"
      },
      "source": [
        "### SVM"
      ]
    },
    {
      "cell_type": "code",
      "execution_count": null,
      "metadata": {
        "id": "XG4rhcAxC-LL"
      },
      "outputs": [],
      "source": [
        "scaler = FunctionTransformer(lambda x: x)\n",
        "run_ensemble(data,svm.SVC(verbose=0),scaler,5,'gcn-ensemble-SVM-without-norm-cora')\n",
        "gcn_ensemble_SVM_without_norm_cora = utilities.load_results('gcn-ensemble-SVM-without-norm-cora')\n",
        "print(gcn_ensemble_SVM_without_norm_cora)"
      ]
    },
    {
      "cell_type": "markdown",
      "metadata": {
        "id": "QGHMhw3m_Fh2"
      },
      "source": [
        "### SVM + Std scaler"
      ]
    },
    {
      "cell_type": "code",
      "execution_count": null,
      "metadata": {
        "id": "dUvRBbz5_B7X"
      },
      "outputs": [],
      "source": [
        "scaler = StandardScaler()\n",
        "run_ensemble(data,svm.SVC(verbose=0),scaler,5,'gcn-ensemble-SVM-standard-norm-cora')\n",
        "gcn_ensemble_SVM_standard_norm_cora = utilities.load_results('gcn-ensemble-SVM-standard-norm-cora')\n",
        "print(gcn_ensemble_SVM_standard_norm_cora)"
      ]
    },
    {
      "cell_type": "markdown",
      "metadata": {
        "id": "xVIECaxG_fyz"
      },
      "source": [
        "### Logistic Regressor"
      ]
    },
    {
      "cell_type": "code",
      "execution_count": null,
      "metadata": {
        "id": "VsHtLZoUEYzd"
      },
      "outputs": [],
      "source": [
        "scaler = FunctionTransformer(lambda x: x)\n",
        "run_ensemble(data,LogisticRegression(max_iter=10000, multi_class=\"multinomial\",verbose=0),scaler,5,'gcn-ensemble-LR-without-norm-cora')\n",
        "gcn_ensemble_LR_without_norm_cora = utilities.load_results('gcn-ensemble-LR-without-norm-cora')\n",
        "print(gcn_ensemble_LR_without_norm_cora)"
      ]
    },
    {
      "cell_type": "markdown",
      "metadata": {
        "id": "s5PIoCyBhR1u"
      },
      "source": [
        "### Logistic Regressor + Std"
      ]
    },
    {
      "cell_type": "code",
      "execution_count": null,
      "metadata": {
        "id": "Yj0GSsG5hVEO"
      },
      "outputs": [],
      "source": [
        "scaler = StandardScaler()\n",
        "run_ensemble(data,LogisticRegression(max_iter=10000, multi_class=\"multinomial\",verbose=0),scaler,5,'gcn-ensemble-LR-standard-norm-cora')\n",
        "gcn_ensemble_LR_standard_norm_cora = utilities.load_results('gcn-ensemble-LR-standard-norm-cora')\n",
        "print(gcn_ensemble_LR_standard_norm_cora)"
      ]
    },
    {
      "cell_type": "markdown",
      "metadata": {
        "id": "SCDPvxASrJwr"
      },
      "source": [
        "### Decision Tree"
      ]
    },
    {
      "cell_type": "code",
      "execution_count": null,
      "metadata": {
        "id": "SfhD8ir3rI6x"
      },
      "outputs": [],
      "source": [
        "scaler = FunctionTransformer(lambda x: x)\n",
        "run_ensemble(data,DecisionTreeClassifier(),scaler,5,'gcn-ensemble-DT-without-norm-cora')\n",
        "gcn_ensemble_DT_without_norm_cora = utilities.load_results('gcn-ensemble-DT-without-norm-cora')\n",
        "print(gcn_ensemble_DT_without_norm_cora)"
      ]
    },
    {
      "cell_type": "markdown",
      "metadata": {
        "id": "sELlk-narNug"
      },
      "source": [
        "### Decision Tree + Std"
      ]
    },
    {
      "cell_type": "code",
      "execution_count": null,
      "metadata": {
        "collapsed": true,
        "id": "NdrQ7DFyrPau"
      },
      "outputs": [],
      "source": [
        "scaler = StandardScaler()\n",
        "run_ensemble(data,DecisionTreeClassifier(),scaler,5,'gcn-ensemble-DT-standard-norm-cora')\n",
        "gcn_ensemble_DT_standard_norm_cora = utilities.load_results('gcn-ensemble-DT-standard-norm-cora')\n",
        "print(gcn_ensemble_DT_standard_norm_cora)"
      ]
    }
  ],
  "metadata": {
    "accelerator": "GPU",
    "colab": {
      "gpuType": "T4",
      "provenance": [],
      "toc_visible": true
    },
    "kernelspec": {
      "display_name": "Python 3",
      "name": "python3"
    },
    "language_info": {
      "name": "python"
    }
  },
  "nbformat": 4,
  "nbformat_minor": 0
}
