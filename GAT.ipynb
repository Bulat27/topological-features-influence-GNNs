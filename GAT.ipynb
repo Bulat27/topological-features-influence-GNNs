{
  "nbformat": 4,
  "nbformat_minor": 0,
  "metadata": {
    "colab": {
      "provenance": [],
      "authorship_tag": "ABX9TyMP9OBQOwdbOmarfQv+v4ak",
      "include_colab_link": true
    },
    "kernelspec": {
      "name": "python3",
      "display_name": "Python 3"
    },
    "language_info": {
      "name": "python"
    }
  },
  "cells": [
    {
      "cell_type": "markdown",
      "metadata": {
        "id": "view-in-github",
        "colab_type": "text"
      },
      "source": [
        "<a href=\"https://colab.research.google.com/github/Bulat27/topological-features-influence-GNNs/blob/master/GAT.ipynb\" target=\"_parent\"><img src=\"https://colab.research.google.com/assets/colab-badge.svg\" alt=\"Open In Colab\"/></a>"
      ]
    },
    {
      "cell_type": "code",
      "execution_count": 1,
      "metadata": {
        "id": "3IcyFwMo5lAT",
        "colab": {
          "base_uri": "https://localhost:8080/"
        },
        "outputId": "5cc5715a-57b0-4508-969c-f4c28d68a089"
      },
      "outputs": [
        {
          "output_type": "stream",
          "name": "stdout",
          "text": [
            "2.1.0+cu121\n",
            "  Installing build dependencies ... \u001b[?25l\u001b[?25hdone\n",
            "  Getting requirements to build wheel ... \u001b[?25l\u001b[?25hdone\n",
            "  Preparing metadata (pyproject.toml) ... \u001b[?25l\u001b[?25hdone\n"
          ]
        }
      ],
      "source": [
        "# Install required packages.\n",
        "import os\n",
        "import torch\n",
        "os.environ['TORCH'] = torch.__version__\n",
        "print(torch.__version__)\n",
        "\n",
        "!pip install -q torch-scatter -f https://data.pyg.org/whl/torch-${TORCH}.html\n",
        "!pip install -q torch-sparse -f https://data.pyg.org/whl/torch-${TORCH}.html\n",
        "!pip install -q git+https://github.com/pyg-team/pytorch_geometric.git\n",
        "\n",
        "import torch.nn.functional as F"
      ]
    },
    {
      "cell_type": "markdown",
      "source": [
        "# Load and inspect the dataset\n"
      ],
      "metadata": {
        "id": "f3EWNp0IFLO-"
      }
    },
    {
      "cell_type": "code",
      "source": [
        "from torch_geometric.datasets import Planetoid\n",
        "from torch_geometric.transforms import NormalizeFeatures\n",
        "\n",
        "dataset = Planetoid(root='data/Planetoid', name='Cora', transform=NormalizeFeatures())"
      ],
      "metadata": {
        "id": "1IClyxixC9MZ"
      },
      "execution_count": 2,
      "outputs": []
    },
    {
      "cell_type": "code",
      "source": [
        "print(f'Number of graphs: {len(dataset)}')\n",
        "print(f'Number of features: {dataset.num_features}')\n",
        "print(f'Number of classes: {dataset.num_classes}')"
      ],
      "metadata": {
        "colab": {
          "base_uri": "https://localhost:8080/"
        },
        "id": "e7Z1eHfkFQGA",
        "outputId": "5cbbc3a4-ee8a-4865-e58b-14d2c51fffa9"
      },
      "execution_count": 3,
      "outputs": [
        {
          "output_type": "stream",
          "name": "stdout",
          "text": [
            "Number of graphs: 1\n",
            "Number of features: 1433\n",
            "Number of classes: 7\n"
          ]
        }
      ]
    },
    {
      "cell_type": "code",
      "source": [
        "data = dataset[0]\n",
        "print(data)"
      ],
      "metadata": {
        "colab": {
          "base_uri": "https://localhost:8080/"
        },
        "id": "85tazWsKFZzl",
        "outputId": "8bb6160e-321c-4405-dc26-9aa71f48f216"
      },
      "execution_count": 4,
      "outputs": [
        {
          "output_type": "stream",
          "name": "stdout",
          "text": [
            "Data(x=[2708, 1433], edge_index=[2, 10556], y=[2708], train_mask=[2708], val_mask=[2708], test_mask=[2708])\n"
          ]
        }
      ]
    },
    {
      "cell_type": "code",
      "source": [
        "print(data.train_mask.sum().item())\n",
        "print(data.val_mask.sum().item())\n",
        "print(data.test_mask.sum().item())"
      ],
      "metadata": {
        "colab": {
          "base_uri": "https://localhost:8080/"
        },
        "id": "xkDz37tWGVWg",
        "outputId": "dc9f8c92-c62b-4feb-d71d-0e4f7e96e70d"
      },
      "execution_count": 5,
      "outputs": [
        {
          "output_type": "stream",
          "name": "stdout",
          "text": [
            "140\n",
            "500\n",
            "1000\n"
          ]
        }
      ]
    },
    {
      "cell_type": "code",
      "source": [
        "from torch_geometric.nn import GATConv\n",
        "\n",
        "class GAT(torch.nn.Module):\n",
        "    def __init__(self, hidden_channels, heads):\n",
        "        super().__init__()\n",
        "        torch.manual_seed(42)\n",
        "        self.conv1 = GATConv(in_channels=dataset.num_features, out_channels=8, heads=8, dropout=0.6)\n",
        "        self.conv2 = GATConv(in_channels=64, out_channels=dataset.num_classes, heads=1, dropout=0.6)\n",
        "\n",
        "    def forward(self, x, edge_index):\n",
        "        x = F.dropout(x, p=0.6, training=self.training)\n",
        "        x = self.conv1(x, edge_index)\n",
        "        x = F.elu(x)\n",
        "        x = F.dropout(x, p=0.6, training=self.training)\n",
        "        x = self.conv2(x, edge_index)\n",
        "        return x\n",
        "\n",
        "model = GAT(hidden_channels=8, heads=8)\n",
        "print(model)"
      ],
      "metadata": {
        "colab": {
          "base_uri": "https://localhost:8080/"
        },
        "id": "YYQcO_yMK5pK",
        "outputId": "b50687c0-6221-4084-ca8a-9d7b4848d7df"
      },
      "execution_count": 8,
      "outputs": [
        {
          "output_type": "stream",
          "name": "stdout",
          "text": [
            "GAT(\n",
            "  (conv1): GATConv(1433, 8, heads=8)\n",
            "  (conv2): GATConv(64, 7, heads=1)\n",
            ")\n"
          ]
        }
      ]
    },
    {
      "cell_type": "code",
      "source": [
        "optimizer = torch.optim.Adam(model.parameters(), lr=0.005, weight_decay=5e-4)\n",
        "criterion = torch.nn.CrossEntropyLoss()\n",
        "\n",
        "def train():\n",
        "      model.train()\n",
        "      optimizer.zero_grad()  # Clear gradients.\n",
        "      out = model(data.x, data.edge_index)  # Perform a single forward pass.\n",
        "      loss = criterion(out[data.train_mask], data.y[data.train_mask])  # Compute the loss solely based on the training nodes.\n",
        "      loss.backward()  # Derive gradients.\n",
        "      optimizer.step()  # Update parameters based on gradients.\n",
        "      return loss\n",
        "\n",
        "def test(mask):\n",
        "      model.eval()\n",
        "      out = model(data.x, data.edge_index)\n",
        "      pred = out.argmax(dim=1)  # Use the class with highest probability.\n",
        "      correct = pred[mask] == data.y[mask]  # Check against ground-truth labels.\n",
        "      acc = int(correct.sum()) / int(mask.sum())  # Derive ratio of correct predictions.\n",
        "      return acc\n",
        "\n",
        "\n",
        "for epoch in range(1, 201):\n",
        "    loss = train()\n",
        "    val_acc = test(data.val_mask)\n",
        "    test_acc = test(data.test_mask)\n",
        "    print(f'Epoch: {epoch:03d}, Loss: {loss:.4f}, Val: {val_acc:.4f}, Test: {test_acc:.4f}')"
      ],
      "metadata": {
        "colab": {
          "base_uri": "https://localhost:8080/"
        },
        "id": "CO4a5YLjLDfM",
        "outputId": "7bdd5585-f927-4995-acc7-2b72cc88415a"
      },
      "execution_count": 14,
      "outputs": [
        {
          "output_type": "stream",
          "name": "stdout",
          "text": [
            "Epoch: 001, Loss: 0.5754, Val: 0.7920, Test: 0.8270\n",
            "Epoch: 002, Loss: 0.5966, Val: 0.7980, Test: 0.8290\n",
            "Epoch: 003, Loss: 0.5782, Val: 0.7940, Test: 0.8350\n",
            "Epoch: 004, Loss: 0.5676, Val: 0.7920, Test: 0.8280\n",
            "Epoch: 005, Loss: 0.5680, Val: 0.7920, Test: 0.8290\n",
            "Epoch: 006, Loss: 0.6449, Val: 0.7920, Test: 0.8270\n",
            "Epoch: 007, Loss: 0.5564, Val: 0.7920, Test: 0.8270\n",
            "Epoch: 008, Loss: 0.5315, Val: 0.7860, Test: 0.8260\n",
            "Epoch: 009, Loss: 0.5500, Val: 0.7840, Test: 0.8270\n",
            "Epoch: 010, Loss: 0.5899, Val: 0.7880, Test: 0.8240\n",
            "Epoch: 011, Loss: 0.6687, Val: 0.7920, Test: 0.8240\n",
            "Epoch: 012, Loss: 0.5291, Val: 0.7980, Test: 0.8240\n",
            "Epoch: 013, Loss: 0.6857, Val: 0.8000, Test: 0.8240\n",
            "Epoch: 014, Loss: 0.6313, Val: 0.8060, Test: 0.8220\n",
            "Epoch: 015, Loss: 0.6207, Val: 0.8080, Test: 0.8250\n",
            "Epoch: 016, Loss: 0.4922, Val: 0.8100, Test: 0.8250\n",
            "Epoch: 017, Loss: 0.5372, Val: 0.8080, Test: 0.8240\n",
            "Epoch: 018, Loss: 0.6990, Val: 0.8060, Test: 0.8210\n",
            "Epoch: 019, Loss: 0.6590, Val: 0.8000, Test: 0.8210\n",
            "Epoch: 020, Loss: 0.5099, Val: 0.8000, Test: 0.8190\n",
            "Epoch: 021, Loss: 0.5804, Val: 0.7980, Test: 0.8190\n",
            "Epoch: 022, Loss: 0.5525, Val: 0.7940, Test: 0.8210\n",
            "Epoch: 023, Loss: 0.5583, Val: 0.7940, Test: 0.8210\n",
            "Epoch: 024, Loss: 0.5623, Val: 0.7940, Test: 0.8250\n",
            "Epoch: 025, Loss: 0.5290, Val: 0.7940, Test: 0.8230\n",
            "Epoch: 026, Loss: 0.6064, Val: 0.7920, Test: 0.8250\n",
            "Epoch: 027, Loss: 0.5942, Val: 0.7940, Test: 0.8270\n",
            "Epoch: 028, Loss: 0.4935, Val: 0.8000, Test: 0.8290\n",
            "Epoch: 029, Loss: 0.6258, Val: 0.8000, Test: 0.8280\n",
            "Epoch: 030, Loss: 0.6760, Val: 0.7980, Test: 0.8280\n",
            "Epoch: 031, Loss: 0.6349, Val: 0.7980, Test: 0.8280\n",
            "Epoch: 032, Loss: 0.5254, Val: 0.8000, Test: 0.8290\n",
            "Epoch: 033, Loss: 0.5264, Val: 0.8040, Test: 0.8280\n",
            "Epoch: 034, Loss: 0.5778, Val: 0.8020, Test: 0.8290\n",
            "Epoch: 035, Loss: 0.5597, Val: 0.8020, Test: 0.8290\n",
            "Epoch: 036, Loss: 0.5984, Val: 0.8020, Test: 0.8290\n",
            "Epoch: 037, Loss: 0.5497, Val: 0.8000, Test: 0.8280\n",
            "Epoch: 038, Loss: 0.6137, Val: 0.8000, Test: 0.8300\n",
            "Epoch: 039, Loss: 0.5681, Val: 0.8020, Test: 0.8280\n",
            "Epoch: 040, Loss: 0.6278, Val: 0.8000, Test: 0.8240\n",
            "Epoch: 041, Loss: 0.6176, Val: 0.7900, Test: 0.8200\n",
            "Epoch: 042, Loss: 0.5538, Val: 0.7920, Test: 0.8190\n",
            "Epoch: 043, Loss: 0.5595, Val: 0.7920, Test: 0.8170\n",
            "Epoch: 044, Loss: 0.6818, Val: 0.7900, Test: 0.8120\n",
            "Epoch: 045, Loss: 0.5943, Val: 0.7900, Test: 0.8080\n",
            "Epoch: 046, Loss: 0.5832, Val: 0.7880, Test: 0.8080\n",
            "Epoch: 047, Loss: 0.5921, Val: 0.7900, Test: 0.8080\n",
            "Epoch: 048, Loss: 0.5719, Val: 0.7860, Test: 0.8050\n",
            "Epoch: 049, Loss: 0.6126, Val: 0.7820, Test: 0.8110\n",
            "Epoch: 050, Loss: 0.6169, Val: 0.7840, Test: 0.8120\n",
            "Epoch: 051, Loss: 0.7180, Val: 0.7900, Test: 0.8190\n",
            "Epoch: 052, Loss: 0.6325, Val: 0.7940, Test: 0.8220\n",
            "Epoch: 053, Loss: 0.5325, Val: 0.7980, Test: 0.8270\n",
            "Epoch: 054, Loss: 0.5801, Val: 0.8040, Test: 0.8290\n",
            "Epoch: 055, Loss: 0.6677, Val: 0.8000, Test: 0.8350\n",
            "Epoch: 056, Loss: 0.5574, Val: 0.8040, Test: 0.8350\n",
            "Epoch: 057, Loss: 0.6551, Val: 0.8060, Test: 0.8360\n",
            "Epoch: 058, Loss: 0.7070, Val: 0.8040, Test: 0.8360\n",
            "Epoch: 059, Loss: 0.5006, Val: 0.8020, Test: 0.8340\n",
            "Epoch: 060, Loss: 0.6164, Val: 0.8020, Test: 0.8330\n",
            "Epoch: 061, Loss: 0.5097, Val: 0.8000, Test: 0.8260\n",
            "Epoch: 062, Loss: 0.6485, Val: 0.8020, Test: 0.8210\n",
            "Epoch: 063, Loss: 0.6278, Val: 0.8020, Test: 0.8200\n",
            "Epoch: 064, Loss: 0.6126, Val: 0.7980, Test: 0.8170\n",
            "Epoch: 065, Loss: 0.5089, Val: 0.8000, Test: 0.8180\n",
            "Epoch: 066, Loss: 0.5823, Val: 0.8000, Test: 0.8190\n",
            "Epoch: 067, Loss: 0.5409, Val: 0.8000, Test: 0.8170\n",
            "Epoch: 068, Loss: 0.6168, Val: 0.8000, Test: 0.8210\n",
            "Epoch: 069, Loss: 0.5549, Val: 0.7980, Test: 0.8210\n",
            "Epoch: 070, Loss: 0.5685, Val: 0.7940, Test: 0.8200\n",
            "Epoch: 071, Loss: 0.5086, Val: 0.7960, Test: 0.8180\n",
            "Epoch: 072, Loss: 0.4990, Val: 0.7920, Test: 0.8150\n",
            "Epoch: 073, Loss: 0.5395, Val: 0.7940, Test: 0.8130\n",
            "Epoch: 074, Loss: 0.5539, Val: 0.7940, Test: 0.8140\n",
            "Epoch: 075, Loss: 0.6138, Val: 0.7920, Test: 0.8160\n",
            "Epoch: 076, Loss: 0.6497, Val: 0.7920, Test: 0.8170\n",
            "Epoch: 077, Loss: 0.5528, Val: 0.7920, Test: 0.8140\n",
            "Epoch: 078, Loss: 0.6127, Val: 0.7940, Test: 0.8160\n",
            "Epoch: 079, Loss: 0.5951, Val: 0.7900, Test: 0.8180\n",
            "Epoch: 080, Loss: 0.5335, Val: 0.7920, Test: 0.8210\n",
            "Epoch: 081, Loss: 0.5405, Val: 0.7920, Test: 0.8240\n",
            "Epoch: 082, Loss: 0.4741, Val: 0.7980, Test: 0.8280\n",
            "Epoch: 083, Loss: 0.5487, Val: 0.7960, Test: 0.8260\n",
            "Epoch: 084, Loss: 0.5179, Val: 0.7960, Test: 0.8300\n",
            "Epoch: 085, Loss: 0.5495, Val: 0.7960, Test: 0.8300\n",
            "Epoch: 086, Loss: 0.5626, Val: 0.7980, Test: 0.8320\n",
            "Epoch: 087, Loss: 0.5022, Val: 0.7980, Test: 0.8300\n",
            "Epoch: 088, Loss: 0.5632, Val: 0.7980, Test: 0.8300\n",
            "Epoch: 089, Loss: 0.5961, Val: 0.7980, Test: 0.8300\n",
            "Epoch: 090, Loss: 0.6130, Val: 0.7980, Test: 0.8310\n",
            "Epoch: 091, Loss: 0.4868, Val: 0.7920, Test: 0.8310\n",
            "Epoch: 092, Loss: 0.5331, Val: 0.7920, Test: 0.8350\n",
            "Epoch: 093, Loss: 0.6023, Val: 0.8000, Test: 0.8350\n",
            "Epoch: 094, Loss: 0.6392, Val: 0.8000, Test: 0.8350\n",
            "Epoch: 095, Loss: 0.6205, Val: 0.8000, Test: 0.8350\n",
            "Epoch: 096, Loss: 0.6721, Val: 0.7980, Test: 0.8330\n",
            "Epoch: 097, Loss: 0.5072, Val: 0.7960, Test: 0.8330\n",
            "Epoch: 098, Loss: 0.6116, Val: 0.7960, Test: 0.8340\n",
            "Epoch: 099, Loss: 0.5471, Val: 0.7980, Test: 0.8350\n",
            "Epoch: 100, Loss: 0.5689, Val: 0.7960, Test: 0.8320\n",
            "Epoch: 101, Loss: 0.6208, Val: 0.7980, Test: 0.8350\n",
            "Epoch: 102, Loss: 0.5115, Val: 0.8000, Test: 0.8350\n",
            "Epoch: 103, Loss: 0.5034, Val: 0.8020, Test: 0.8310\n",
            "Epoch: 104, Loss: 0.5614, Val: 0.8020, Test: 0.8310\n",
            "Epoch: 105, Loss: 0.5861, Val: 0.8000, Test: 0.8330\n",
            "Epoch: 106, Loss: 0.5694, Val: 0.7960, Test: 0.8330\n",
            "Epoch: 107, Loss: 0.5596, Val: 0.7960, Test: 0.8290\n",
            "Epoch: 108, Loss: 0.5179, Val: 0.8000, Test: 0.8290\n",
            "Epoch: 109, Loss: 0.5903, Val: 0.7960, Test: 0.8260\n",
            "Epoch: 110, Loss: 0.6074, Val: 0.7980, Test: 0.8220\n",
            "Epoch: 111, Loss: 0.5868, Val: 0.7920, Test: 0.8230\n",
            "Epoch: 112, Loss: 0.5577, Val: 0.7880, Test: 0.8230\n",
            "Epoch: 113, Loss: 0.6382, Val: 0.7920, Test: 0.8190\n",
            "Epoch: 114, Loss: 0.5077, Val: 0.7980, Test: 0.8170\n",
            "Epoch: 115, Loss: 0.6063, Val: 0.7900, Test: 0.8130\n",
            "Epoch: 116, Loss: 0.6366, Val: 0.7900, Test: 0.8130\n",
            "Epoch: 117, Loss: 0.4979, Val: 0.7880, Test: 0.8120\n",
            "Epoch: 118, Loss: 0.6026, Val: 0.7900, Test: 0.8150\n",
            "Epoch: 119, Loss: 0.7120, Val: 0.7940, Test: 0.8180\n",
            "Epoch: 120, Loss: 0.6057, Val: 0.7960, Test: 0.8190\n",
            "Epoch: 121, Loss: 0.4733, Val: 0.7980, Test: 0.8190\n",
            "Epoch: 122, Loss: 0.5017, Val: 0.8020, Test: 0.8260\n",
            "Epoch: 123, Loss: 0.5880, Val: 0.8040, Test: 0.8280\n",
            "Epoch: 124, Loss: 0.6133, Val: 0.8020, Test: 0.8300\n",
            "Epoch: 125, Loss: 0.5716, Val: 0.7980, Test: 0.8300\n",
            "Epoch: 126, Loss: 0.5697, Val: 0.7940, Test: 0.8280\n",
            "Epoch: 127, Loss: 0.5320, Val: 0.7960, Test: 0.8280\n",
            "Epoch: 128, Loss: 0.5878, Val: 0.7940, Test: 0.8240\n",
            "Epoch: 129, Loss: 0.5221, Val: 0.7940, Test: 0.8230\n",
            "Epoch: 130, Loss: 0.6033, Val: 0.7960, Test: 0.8220\n",
            "Epoch: 131, Loss: 0.5575, Val: 0.7980, Test: 0.8230\n",
            "Epoch: 132, Loss: 0.6483, Val: 0.7980, Test: 0.8230\n",
            "Epoch: 133, Loss: 0.4746, Val: 0.7980, Test: 0.8220\n",
            "Epoch: 134, Loss: 0.6012, Val: 0.7940, Test: 0.8230\n",
            "Epoch: 135, Loss: 0.6698, Val: 0.7940, Test: 0.8260\n",
            "Epoch: 136, Loss: 0.5247, Val: 0.7980, Test: 0.8270\n",
            "Epoch: 137, Loss: 0.5878, Val: 0.8020, Test: 0.8310\n",
            "Epoch: 138, Loss: 0.5508, Val: 0.8000, Test: 0.8290\n",
            "Epoch: 139, Loss: 0.6400, Val: 0.8020, Test: 0.8310\n",
            "Epoch: 140, Loss: 0.5486, Val: 0.8020, Test: 0.8310\n",
            "Epoch: 141, Loss: 0.5693, Val: 0.8060, Test: 0.8320\n",
            "Epoch: 142, Loss: 0.5267, Val: 0.8080, Test: 0.8310\n",
            "Epoch: 143, Loss: 0.5946, Val: 0.8060, Test: 0.8290\n",
            "Epoch: 144, Loss: 0.6575, Val: 0.7980, Test: 0.8260\n",
            "Epoch: 145, Loss: 0.6075, Val: 0.7960, Test: 0.8250\n",
            "Epoch: 146, Loss: 0.6702, Val: 0.7960, Test: 0.8300\n",
            "Epoch: 147, Loss: 0.5166, Val: 0.7940, Test: 0.8320\n",
            "Epoch: 148, Loss: 0.5496, Val: 0.7880, Test: 0.8320\n",
            "Epoch: 149, Loss: 0.6196, Val: 0.7860, Test: 0.8350\n",
            "Epoch: 150, Loss: 0.4344, Val: 0.7860, Test: 0.8310\n",
            "Epoch: 151, Loss: 0.5743, Val: 0.7880, Test: 0.8280\n",
            "Epoch: 152, Loss: 0.6084, Val: 0.7840, Test: 0.8280\n",
            "Epoch: 153, Loss: 0.6452, Val: 0.7860, Test: 0.8280\n",
            "Epoch: 154, Loss: 0.5585, Val: 0.7860, Test: 0.8300\n",
            "Epoch: 155, Loss: 0.6064, Val: 0.7860, Test: 0.8290\n",
            "Epoch: 156, Loss: 0.5339, Val: 0.7880, Test: 0.8280\n",
            "Epoch: 157, Loss: 0.5464, Val: 0.7880, Test: 0.8280\n",
            "Epoch: 158, Loss: 0.5218, Val: 0.7900, Test: 0.8230\n",
            "Epoch: 159, Loss: 0.5305, Val: 0.8000, Test: 0.8200\n",
            "Epoch: 160, Loss: 0.6115, Val: 0.7980, Test: 0.8180\n",
            "Epoch: 161, Loss: 0.7008, Val: 0.7940, Test: 0.8160\n",
            "Epoch: 162, Loss: 0.5669, Val: 0.7940, Test: 0.8160\n",
            "Epoch: 163, Loss: 0.5183, Val: 0.7940, Test: 0.8160\n",
            "Epoch: 164, Loss: 0.5548, Val: 0.7980, Test: 0.8180\n",
            "Epoch: 165, Loss: 0.4728, Val: 0.7960, Test: 0.8220\n",
            "Epoch: 166, Loss: 0.5782, Val: 0.7980, Test: 0.8250\n",
            "Epoch: 167, Loss: 0.6385, Val: 0.7940, Test: 0.8290\n",
            "Epoch: 168, Loss: 0.5648, Val: 0.7940, Test: 0.8310\n",
            "Epoch: 169, Loss: 0.5798, Val: 0.7940, Test: 0.8310\n",
            "Epoch: 170, Loss: 0.6413, Val: 0.7960, Test: 0.8300\n",
            "Epoch: 171, Loss: 0.6053, Val: 0.7960, Test: 0.8320\n",
            "Epoch: 172, Loss: 0.4877, Val: 0.7980, Test: 0.8360\n",
            "Epoch: 173, Loss: 0.5899, Val: 0.7960, Test: 0.8340\n",
            "Epoch: 174, Loss: 0.7411, Val: 0.7960, Test: 0.8330\n",
            "Epoch: 175, Loss: 0.4936, Val: 0.7980, Test: 0.8320\n",
            "Epoch: 176, Loss: 0.6595, Val: 0.7980, Test: 0.8310\n",
            "Epoch: 177, Loss: 0.5265, Val: 0.7940, Test: 0.8330\n",
            "Epoch: 178, Loss: 0.6557, Val: 0.7940, Test: 0.8290\n",
            "Epoch: 179, Loss: 0.5141, Val: 0.7960, Test: 0.8270\n",
            "Epoch: 180, Loss: 0.6408, Val: 0.7880, Test: 0.8250\n",
            "Epoch: 181, Loss: 0.5634, Val: 0.7920, Test: 0.8240\n",
            "Epoch: 182, Loss: 0.5261, Val: 0.7900, Test: 0.8180\n",
            "Epoch: 183, Loss: 0.5003, Val: 0.7900, Test: 0.8140\n",
            "Epoch: 184, Loss: 0.5347, Val: 0.7920, Test: 0.8150\n",
            "Epoch: 185, Loss: 0.5942, Val: 0.7920, Test: 0.8150\n",
            "Epoch: 186, Loss: 0.5515, Val: 0.7980, Test: 0.8190\n",
            "Epoch: 187, Loss: 0.5684, Val: 0.7980, Test: 0.8190\n",
            "Epoch: 188, Loss: 0.5992, Val: 0.7980, Test: 0.8240\n",
            "Epoch: 189, Loss: 0.5112, Val: 0.8060, Test: 0.8280\n",
            "Epoch: 190, Loss: 0.5920, Val: 0.8060, Test: 0.8280\n",
            "Epoch: 191, Loss: 0.6185, Val: 0.8040, Test: 0.8280\n",
            "Epoch: 192, Loss: 0.6046, Val: 0.8040, Test: 0.8300\n",
            "Epoch: 193, Loss: 0.5000, Val: 0.8040, Test: 0.8310\n",
            "Epoch: 194, Loss: 0.5938, Val: 0.8080, Test: 0.8300\n",
            "Epoch: 195, Loss: 0.5662, Val: 0.8080, Test: 0.8290\n",
            "Epoch: 196, Loss: 0.5830, Val: 0.8080, Test: 0.8330\n",
            "Epoch: 197, Loss: 0.6731, Val: 0.8080, Test: 0.8310\n",
            "Epoch: 198, Loss: 0.5992, Val: 0.8080, Test: 0.8330\n",
            "Epoch: 199, Loss: 0.5140, Val: 0.8060, Test: 0.8320\n",
            "Epoch: 200, Loss: 0.6230, Val: 0.8060, Test: 0.8330\n"
          ]
        }
      ]
    },
    {
      "cell_type": "code",
      "source": [
        "test_acc = test(data.test_mask)\n",
        "print(f'Test Accuracy: {test_acc:.4f}')"
      ],
      "metadata": {
        "colab": {
          "base_uri": "https://localhost:8080/"
        },
        "id": "xa0BwadgSsZq",
        "outputId": "fb80f4ca-07c4-4079-8bbd-67b2df7cf32e"
      },
      "execution_count": 16,
      "outputs": [
        {
          "output_type": "stream",
          "name": "stdout",
          "text": [
            "Test Accuracy: 0.8330\n"
          ]
        }
      ]
    }
  ]
}