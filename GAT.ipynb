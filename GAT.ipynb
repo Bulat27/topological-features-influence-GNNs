{
  "nbformat": 4,
  "nbformat_minor": 0,
  "metadata": {
    "colab": {
      "provenance": [],
      "authorship_tag": "ABX9TyNCVs+mUTkCrAwLuZRL7JIh",
      "include_colab_link": true
    },
    "kernelspec": {
      "name": "python3",
      "display_name": "Python 3"
    },
    "language_info": {
      "name": "python"
    }
  },
  "cells": [
    {
      "cell_type": "markdown",
      "metadata": {
        "id": "view-in-github",
        "colab_type": "text"
      },
      "source": [
        "<a href=\"https://colab.research.google.com/github/Bulat27/topological-features-influence-GNNs/blob/master/GAT.ipynb\" target=\"_parent\"><img src=\"https://colab.research.google.com/assets/colab-badge.svg\" alt=\"Open In Colab\"/></a>"
      ]
    },
    {
      "cell_type": "code",
      "execution_count": 1,
      "metadata": {
        "id": "3IcyFwMo5lAT",
        "colab": {
          "base_uri": "https://localhost:8080/"
        },
        "outputId": "5cc5715a-57b0-4508-969c-f4c28d68a089"
      },
      "outputs": [
        {
          "output_type": "stream",
          "name": "stdout",
          "text": [
            "2.1.0+cu121\n",
            "  Installing build dependencies ... \u001b[?25l\u001b[?25hdone\n",
            "  Getting requirements to build wheel ... \u001b[?25l\u001b[?25hdone\n",
            "  Preparing metadata (pyproject.toml) ... \u001b[?25l\u001b[?25hdone\n"
          ]
        }
      ],
      "source": [
        "# Install required packages.\n",
        "import os\n",
        "import torch\n",
        "os.environ['TORCH'] = torch.__version__\n",
        "print(torch.__version__)\n",
        "\n",
        "!pip install -q torch-scatter -f https://data.pyg.org/whl/torch-${TORCH}.html\n",
        "!pip install -q torch-sparse -f https://data.pyg.org/whl/torch-${TORCH}.html\n",
        "!pip install -q git+https://github.com/pyg-team/pytorch_geometric.git\n",
        "\n",
        "import torch.nn.functional as F"
      ]
    },
    {
      "cell_type": "markdown",
      "source": [
        "# Load and inspect the dataset\n"
      ],
      "metadata": {
        "id": "f3EWNp0IFLO-"
      }
    },
    {
      "cell_type": "code",
      "source": [
        "from torch_geometric.datasets import Planetoid\n",
        "from torch_geometric.transforms import NormalizeFeatures\n",
        "\n",
        "dataset = Planetoid(root='data/Planetoid', name='Cora', transform=NormalizeFeatures())"
      ],
      "metadata": {
        "id": "1IClyxixC9MZ"
      },
      "execution_count": 2,
      "outputs": []
    },
    {
      "cell_type": "code",
      "source": [
        "print(f'Number of graphs: {len(dataset)}')\n",
        "print(f'Number of features: {dataset.num_features}')\n",
        "print(f'Number of classes: {dataset.num_classes}')"
      ],
      "metadata": {
        "colab": {
          "base_uri": "https://localhost:8080/"
        },
        "id": "e7Z1eHfkFQGA",
        "outputId": "5cbbc3a4-ee8a-4865-e58b-14d2c51fffa9"
      },
      "execution_count": 3,
      "outputs": [
        {
          "output_type": "stream",
          "name": "stdout",
          "text": [
            "Number of graphs: 1\n",
            "Number of features: 1433\n",
            "Number of classes: 7\n"
          ]
        }
      ]
    },
    {
      "cell_type": "code",
      "source": [
        "data = dataset[0]\n",
        "print(data)"
      ],
      "metadata": {
        "colab": {
          "base_uri": "https://localhost:8080/"
        },
        "id": "85tazWsKFZzl",
        "outputId": "8bb6160e-321c-4405-dc26-9aa71f48f216"
      },
      "execution_count": 4,
      "outputs": [
        {
          "output_type": "stream",
          "name": "stdout",
          "text": [
            "Data(x=[2708, 1433], edge_index=[2, 10556], y=[2708], train_mask=[2708], val_mask=[2708], test_mask=[2708])\n"
          ]
        }
      ]
    },
    {
      "cell_type": "code",
      "source": [
        "print(data.train_mask.sum().item())\n",
        "print(data.val_mask.sum().item())\n",
        "print(data.test_mask.sum().item())"
      ],
      "metadata": {
        "colab": {
          "base_uri": "https://localhost:8080/"
        },
        "id": "xkDz37tWGVWg",
        "outputId": "dc9f8c92-c62b-4feb-d71d-0e4f7e96e70d"
      },
      "execution_count": 5,
      "outputs": [
        {
          "output_type": "stream",
          "name": "stdout",
          "text": [
            "140\n",
            "500\n",
            "1000\n"
          ]
        }
      ]
    },
    {
      "cell_type": "code",
      "source": [
        "from torch_geometric.nn import GATConv\n",
        "\n",
        "class GAT(torch.nn.Module):\n",
        "    def __init__(self, hidden_channels, heads):\n",
        "        super().__init__()\n",
        "        torch.manual_seed(42)\n",
        "        self.conv1 = GATConv(in_channels=dataset.num_features, out_channels=8, heads=8, dropout=0.6)\n",
        "        self.conv2 = GATConv(in_channels=64, out_channels=dataset.num_classes, heads=1, dropout=0.6)\n",
        "\n",
        "    def forward(self, x, edge_index):\n",
        "        x = F.dropout(x, p=0.6, training=self.training)\n",
        "        x = self.conv1(x, edge_index)\n",
        "        x = F.elu(x)\n",
        "        x = F.dropout(x, p=0.6, training=self.training)\n",
        "        x = self.conv2(x, edge_index)\n",
        "        return x\n",
        "\n",
        "model = GAT(hidden_channels=8, heads=8)\n",
        "print(model)"
      ],
      "metadata": {
        "colab": {
          "base_uri": "https://localhost:8080/"
        },
        "id": "YYQcO_yMK5pK",
        "outputId": "b50687c0-6221-4084-ca8a-9d7b4848d7df"
      },
      "execution_count": 8,
      "outputs": [
        {
          "output_type": "stream",
          "name": "stdout",
          "text": [
            "GAT(\n",
            "  (conv1): GATConv(1433, 8, heads=8)\n",
            "  (conv2): GATConv(64, 7, heads=1)\n",
            ")\n"
          ]
        }
      ]
    },
    {
      "cell_type": "code",
      "source": [
        "optimizer = torch.optim.Adam(model.parameters(), lr=0.005, weight_decay=5e-4)\n",
        "criterion = torch.nn.CrossEntropyLoss()\n",
        "\n",
        "def train():\n",
        "      model.train()\n",
        "      optimizer.zero_grad()  # Clear gradients.\n",
        "      out = model(data.x, data.edge_index)  # Perform a single forward pass.\n",
        "      loss = criterion(out[data.train_mask], data.y[data.train_mask])  # Compute the loss solely based on the training nodes.\n",
        "      loss.backward()  # Derive gradients.\n",
        "      optimizer.step()  # Update parameters based on gradients.\n",
        "      return loss\n",
        "\n",
        "def test(mask):\n",
        "      model.eval()\n",
        "      out = model(data.x, data.edge_index)\n",
        "      pred = out.argmax(dim=1)  # Use the class with highest probability.\n",
        "      correct = pred[mask] == data.y[mask]  # Check against ground-truth labels.\n",
        "      acc = int(correct.sum()) / int(mask.sum())  # Derive ratio of correct predictions.\n",
        "      return acc\n",
        "\n",
        "best_val_acc = 0.0\n",
        "best_epoch = 0\n",
        "\n",
        "for epoch in range(1, 21):\n",
        "    loss = train()\n",
        "    val_acc = test(data.val_mask)\n",
        "    print(f'Epoch: {epoch:03d}, Loss: {loss:.4f}, Val: {val_acc:.4f}')\n",
        "\n",
        "    if val_acc > best_val_acc:\n",
        "        best_val_acc = val_acc\n",
        "        best_epoch = epoch\n",
        "        torch.save(model.state_dict(), 'best_model.pth')"
      ],
      "metadata": {
        "colab": {
          "base_uri": "https://localhost:8080/"
        },
        "id": "CO4a5YLjLDfM",
        "outputId": "ab9c1667-e2e6-4a0f-d902-3d1bb7c2d13a"
      },
      "execution_count": 38,
      "outputs": [
        {
          "output_type": "stream",
          "name": "stdout",
          "text": [
            "Epoch: 001, Loss: 0.5877, Val: 0.8060\n",
            "Epoch: 002, Loss: 0.5972, Val: 0.7980\n",
            "Epoch: 003, Loss: 0.7562, Val: 0.7960\n",
            "Epoch: 004, Loss: 0.6172, Val: 0.7980\n",
            "Epoch: 005, Loss: 0.6136, Val: 0.8020\n",
            "Epoch: 006, Loss: 0.6400, Val: 0.8040\n",
            "Epoch: 007, Loss: 0.5456, Val: 0.8060\n",
            "Epoch: 008, Loss: 0.7379, Val: 0.8040\n",
            "Epoch: 009, Loss: 0.6092, Val: 0.8080\n",
            "Epoch: 010, Loss: 0.7371, Val: 0.8060\n",
            "Epoch: 011, Loss: 0.5809, Val: 0.8060\n",
            "Epoch: 012, Loss: 0.5867, Val: 0.8020\n",
            "Epoch: 013, Loss: 0.6062, Val: 0.8040\n",
            "Epoch: 014, Loss: 0.5833, Val: 0.8020\n",
            "Epoch: 015, Loss: 0.6267, Val: 0.8020\n",
            "Epoch: 016, Loss: 0.6103, Val: 0.8000\n",
            "Epoch: 017, Loss: 0.6208, Val: 0.7960\n",
            "Epoch: 018, Loss: 0.4941, Val: 0.7960\n",
            "Epoch: 019, Loss: 0.6687, Val: 0.7940\n",
            "Epoch: 020, Loss: 0.5618, Val: 0.7900\n"
          ]
        }
      ]
    },
    {
      "cell_type": "code",
      "source": [
        "model.load_state_dict(torch.load('best_model.pth'))\n",
        "\n",
        "test_acc = test(data.test_mask)\n",
        "print(f'Test Accuracy: {test_acc:.4f}')"
      ],
      "metadata": {
        "colab": {
          "base_uri": "https://localhost:8080/"
        },
        "id": "xa0BwadgSsZq",
        "outputId": "5891545b-4f34-463d-b62b-ccdab51e83f4"
      },
      "execution_count": 39,
      "outputs": [
        {
          "output_type": "stream",
          "name": "stdout",
          "text": [
            "Test Accuracy: 0.8350\n"
          ]
        }
      ]
    },
    {
      "cell_type": "code",
      "source": [
        "print(best_epoch)"
      ],
      "metadata": {
        "colab": {
          "base_uri": "https://localhost:8080/"
        },
        "id": "qRuzHkuSeH5d",
        "outputId": "e497cbe4-9cca-4c74-bde4-2c34fc6274e4"
      },
      "execution_count": 40,
      "outputs": [
        {
          "output_type": "stream",
          "name": "stdout",
          "text": [
            "9\n"
          ]
        }
      ]
    }
  ]
}